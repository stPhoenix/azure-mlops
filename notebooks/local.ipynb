{
 "cells": [
  {
   "cell_type": "code",
   "execution_count": null,
   "id": "initial_id",
   "metadata": {
    "collapsed": false
   },
   "outputs": [],
   "source": [
    "\"\"\"Fetch raw data\"\"\"\n",
    "\n",
    "from stockpredict.fetcher.main import execute\n",
    "from pyspark.sql import SparkSession\n",
    "\n",
    "local_path = \"../data/raw\"\n",
    "markers = [\"AAPL\", \"MSFT\", \"AMZN\"]\n",
    "api_key = \"\" ### Set api key\n",
    "\n",
    "builder = (SparkSession.builder.appName(\"Fetcher\")\n",
    "    .config('spark.jars.packages', 'io.delta:delta-core_2.12:2.3.0,')\n",
    "    .config(\"spark.sql.extensions\", \"io.delta.sql.DeltaSparkSessionExtension\")\n",
    "    .config(\"spark.sql.catalog.spark_catalog\", \"org.apache.spark.sql.delta.catalog.DeltaCatalog\")\n",
    "    .config(\"spark.sql.catalogImplementation\", \"hive\")\n",
    "    .config(\"spark.memory.offHeap.enabled\",\"true\")\n",
    "    .config(\"spark.memory.offHeap.size\",\"20g\")\n",
    "    .config(\"spark.driver.memory\", \"20g\")\n",
    "    .config(\"spark.executor.memory\", \"20g\")\n",
    "    )\n",
    "\n",
    "spark = builder.getOrCreate()\n",
    "\n",
    "execute(api_key, markers, local_path, spark)"
   ]
  },
  {
   "cell_type": "code",
   "execution_count": null,
   "id": "5eb5724694e2c767",
   "metadata": {
    "collapsed": false
   },
   "outputs": [],
   "source": [
    "\"\"\"Process data for training\"\"\"\n",
    "\"\"\"Spark UI is available at http://127.0.0.1:4040/\"\"\"\n",
    "from pyspark.sql import SparkSession\n",
    "from stockpredict.etl.cleaner import Preprocess, save, normalize\n",
    "\n",
    "input_path = \"../data/raw\"\n",
    "output_path = \"../data/clean\"\n",
    "builder = (SparkSession.builder.appName(\"ETL\")\n",
    "    .config('spark.jars.packages', 'io.delta:delta-core_2.12:2.3.0,')\n",
    "    .config(\"spark.sql.extensions\", \"io.delta.sql.DeltaSparkSessionExtension\")\n",
    "    .config(\"spark.sql.catalog.spark_catalog\", \"org.apache.spark.sql.delta.catalog.DeltaCatalog\")\n",
    "    .config(\"spark.sql.catalogImplementation\", \"hive\")\n",
    "    .config(\"spark.memory.offHeap.enabled\",\"true\")\n",
    "    .config(\"spark.memory.offHeap.size\",\"20g\")\n",
    "    .config(\"spark.driver.memory\", \"20g\")\n",
    "    .config(\"spark.executor.memory\", \"20g\")\n",
    "    )\n",
    "\n",
    "spark = builder.getOrCreate()\n",
    "\n",
    "data = Preprocess(spark, input_path).execute()\n",
    "\n",
    "normalized = normalize(data)\n",
    "save(normalized, output_path)"
   ]
  },
  {
   "cell_type": "code",
   "execution_count": null,
   "id": "ae3dcf25a6802fa9",
   "metadata": {
    "collapsed": false
   },
   "outputs": [],
   "source": [
    "\"\"\"Load tensorboard to show metrics\"\"\"\n",
    "\"\"\"If you will not see any output window here - open http://127.0.0.1:6006/\"\"\"\n",
    "%reload_ext tensorboard\n",
    "%tensorboard --logdir=../model/lightning_logs/ --bind_all"
   ]
  },
  {
   "cell_type": "code",
   "execution_count": null,
   "id": "b13ad1202517577c",
   "metadata": {
    "collapsed": false
   },
   "outputs": [],
   "source": [
    "\"\"\"Train network\"\"\"\n",
    "from stockpredict.train.main import run_train\n",
    "\n",
    "input_data = \"../data/clean\"\n",
    "output_model = \"../model\"\n",
    "\n",
    "run_train(input_data=input_data,\n",
    "          batch_size=64,\n",
    "          shuffle=True,\n",
    "          learning_rate=0.01,\n",
    "          epochs=100,\n",
    "          output_model=output_model,\n",
    "          progress_bar=False)\n"
   ]
  },
  {
   "cell_type": "code",
   "execution_count": null,
   "id": "af41d15abb64ec5",
   "metadata": {
    "collapsed": false
   },
   "outputs": [],
   "source": [
    "\"\"\"Inference\"\"\"\n",
    "import json\n",
    "from stockpredict.inference.stock import init, run\n",
    "from unittest import mock\n",
    "\n",
    "raw_data = json.dumps(\n",
    "    {\n",
    "        \"symbol\" : \"AAPL\",\n",
    "        \"start_date\" : \"2023-10-09\",\n",
    "        \"end_date\" : \"2023-12-25\"\n",
    "    }\n",
    ")\n",
    "with mock.patch(\"inference.stock.os.path.join\") as mock_path:\n",
    "    mock_path.return_value = \"../model/checkpoint.ckpt\"\n",
    "    init()\n",
    "with mock.patch(\"inference.stock.get_api_key\") as mock_get_api_key:\n",
    "    mock_get_api_key.return_value = \"\" ### Set api key\n",
    "    result = run(raw_data)\n",
    "result"
   ]
  },
  {
   "cell_type": "code",
   "execution_count": null,
   "id": "c825b070356582f2",
   "metadata": {
    "collapsed": false
   },
   "outputs": [],
   "source": []
  }
 ],
 "metadata": {
  "kernelspec": {
   "display_name": "Python 3 (ipykernel)",
   "language": "python",
   "name": "python3"
  },
  "language_info": {
   "codemirror_mode": {
    "name": "ipython",
    "version": 3
   },
   "file_extension": ".py",
   "mimetype": "text/x-python",
   "name": "python",
   "nbconvert_exporter": "python",
   "pygments_lexer": "ipython3",
   "version": "3.10.6"
  }
 },
 "nbformat": 4,
 "nbformat_minor": 5
}
