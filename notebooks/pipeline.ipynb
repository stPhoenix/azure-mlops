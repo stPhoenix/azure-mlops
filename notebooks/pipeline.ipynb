{
 "cells": [
  {
   "cell_type": "code",
   "execution_count": null,
   "id": "initial_id",
   "metadata": {
    "tags": []
   },
   "outputs": [],
   "source": [
    "import logging\n",
    "logging.basicConfig(level=logging.DEBUG)"
   ]
  },
  {
   "cell_type": "code",
   "execution_count": null,
   "id": "8e0d5e025c612d1",
   "metadata": {
    "collapsed": false
   },
   "outputs": [],
   "source": [
    "\"\"\"Put config.json with ml workspace creds to the root\"\"\"\n",
    "from azure.ai.ml import MLClient\n",
    "from azure.identity import DefaultAzureCredential\n",
    "\n",
    "ml_client = MLClient.from_config(credential=DefaultAzureCredential(), path=\"../\")"
   ]
  },
  {
   "cell_type": "code",
   "execution_count": null,
   "id": "bc490599d8cb76a",
   "metadata": {
    "collapsed": false
   },
   "outputs": [],
   "source": [
    "\"\"\"Create one place with inputs to the pipelines\"\"\"\n",
    "from azure.ai.ml import Input\n",
    "from azure.ai.ml.constants import InputOutputModes as IOMode\n",
    "\n",
    "input_data = Input(path=\"azureml://datastores/raw/paths/data\", mode=IOMode.DIRECT)\n",
    "markers = \"AAPL\"\n",
    "output_data = Input(path=\"azureml://datastores/cleaned/paths/data\", mode=IOMode.DIRECT)\n",
    "subscription_id = ml_client.subscription_id\n",
    "resource_group = ml_client.resource_group_name\n",
    "workspace_name = ml_client.workspace_name\n",
    "client_id = \"\" ### Set client_id of user assigned identity\n",
    "keyvault_name = \"stockpredict-ml\" ### Set keyvault name\n",
    "train_input = Input(path=\"azureml://datastores/cleaned/paths/data\", mode=IOMode.RO_MOUNT)\n",
    "epochs = 10"
   ]
  },
  {
   "cell_type": "code",
   "execution_count": null,
   "outputs": [],
   "source": [
    "\"\"\"Helper\"\"\"\n",
    "def start_pipeline(pipe) -> None:\n",
    "    pipe.compute = \"serverless\"\n",
    "    job = ml_client.jobs.create_or_update(pipeline)\n",
    "    ml_client.jobs.stream(job.name)"
   ],
   "metadata": {
    "collapsed": false
   },
   "id": "8f1a61b35cc45076"
  },
  {
   "cell_type": "code",
   "execution_count": null,
   "id": "178d8fac3c5b1ee4",
   "metadata": {
    "collapsed": false
   },
   "outputs": [],
   "source": [
    "\"\"\"Fetch pipeline\"\"\"\n",
    "from stockpredict.deployment.pipelines import fetch_data_pipeline\n",
    "pipeline = fetch_data_pipeline(input_path=input_data, markers=markers ,keyvault_name=keyvault_name)\n",
    "start_pipeline(pipeline)"
   ]
  },
  {
   "cell_type": "code",
   "execution_count": null,
   "id": "4febbe05bff74fb3",
   "metadata": {
    "collapsed": false
   },
   "outputs": [],
   "source": [
    "\"\"\"ETL pipeline\"\"\"\n",
    "from stockpredict.deployment.pipelines import etl_pipeline\n",
    "pipeline = etl_pipeline(input_data=input_data, output_data=output_data)\n",
    "start_pipeline(pipeline)"
   ]
  },
  {
   "cell_type": "code",
   "execution_count": null,
   "id": "b004b153813ef7f",
   "metadata": {
    "collapsed": false,
    "is_executing": true
   },
   "outputs": [],
   "source": [
    "\"\"\"Train / Register model pipeline\"\"\"\n",
    "from stockpredict.deployment.pipelines import train_register_pipeline\n",
    "pipeline = train_register_pipeline(input_data=train_input, subscription_id=subscription_id, resource_group=resource_group, workspace_name=workspace_name, client_id=client_id, epochs=epochs)\n",
    "start_pipeline(pipeline)"
   ]
  },
  {
   "cell_type": "code",
   "execution_count": null,
   "id": "b77951b2-d2ed-4a94-bfd8-af0b72cc13bd",
   "metadata": {
    "scrolled": true,
    "tags": []
   },
   "outputs": [],
   "source": [
    "\"\"\"Fetch -> ETL -> Train -> Register model -> Deploy pipeline\"\"\"\n",
    "from stockpredict.deployment.pipelines import fetch_etl_train_register_deploy_pipeline\n",
    "pipeline = fetch_etl_train_register_deploy_pipeline(input_data=input_data, subscription_id=subscription_id, resource_group=resource_group, workspace_name=workspace_name, client_id=client_id, markers=markers, output_data=output_data, keyvault_name=keyvault_name, epochs=epochs)\n",
    "start_pipeline(pipeline)"
   ]
  },
  {
   "cell_type": "markdown",
   "id": "566f6fd4b448d718",
   "metadata": {
    "ExecuteTime": {
     "end_time": "2023-10-23T06:55:22.068050690Z",
     "start_time": "2023-10-23T06:55:22.024510186Z"
    }
   },
   "source": []
  }
 ],
 "metadata": {
  "kernelspec": {
   "display_name": "Python 3 (ipykernel)",
   "language": "python",
   "name": "python3"
  },
  "language_info": {
   "codemirror_mode": {
    "name": "ipython",
    "version": 3
   },
   "file_extension": ".py",
   "mimetype": "text/x-python",
   "name": "python",
   "nbconvert_exporter": "python",
   "pygments_lexer": "ipython3",
   "version": "3.10.6"
  }
 },
 "nbformat": 4,
 "nbformat_minor": 5
}
