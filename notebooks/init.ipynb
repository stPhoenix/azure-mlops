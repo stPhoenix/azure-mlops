{
 "cells": [
  {
   "cell_type": "code",
   "execution_count": null,
   "outputs": [],
   "source": [
    "import logging\n",
    "logging.basicConfig(level=logging.DEBUG)"
   ],
   "metadata": {
    "collapsed": false
   },
   "id": "a6aebe20bc5710f7"
  },
  {
   "cell_type": "code",
   "execution_count": null,
   "outputs": [],
   "source": [
    "from azure.ai.ml import MLClient\n",
    "from azure.identity import DefaultAzureCredential\n",
    "\n",
    "ml_client = MLClient.from_config(credential=DefaultAzureCredential(), path=\"../\")"
   ],
   "metadata": {
    "collapsed": false
   },
   "id": "6a366d97-0442-49a5-8a60-befe6681f689"
  },
  {
   "cell_type": "code",
   "execution_count": null,
   "outputs": [],
   "source": [
    "from stockpredict.deployment.main import register_environments, register_components, register_pipelines\n",
    "\n",
    "register_environments(ml_client)\n",
    "register_components(ml_client)\n",
    "register_pipelines(ml_client)"
   ],
   "metadata": {
    "collapsed": false
   },
   "id": "4a7aea535d5745dc"
  }
 ],
 "metadata": {
  "kernelspec": {
   "display_name": "Python 3 (ipykernel)",
   "language": "python",
   "name": "python3"
  },
  "language_info": {
   "codemirror_mode": {
    "name": "ipython",
    "version": 3
   },
   "file_extension": ".py",
   "mimetype": "text/x-python",
   "name": "python",
   "nbconvert_exporter": "python",
   "pygments_lexer": "ipython3",
   "version": "3.10.6"
  }
 },
 "nbformat": 4,
 "nbformat_minor": 5
}
